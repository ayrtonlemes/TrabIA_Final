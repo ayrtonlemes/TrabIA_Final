{
  "nbformat": 4,
  "nbformat_minor": 0,
  "metadata": {
    "colab": {
      "provenance": []
    },
    "kernelspec": {
      "name": "python3",
      "display_name": "Python 3"
    },
    "language_info": {
      "name": "python"
    }
  },
  "cells": [
    {
      "cell_type": "markdown",
      "source": [
        "# Funções LTN Relations Milenna"
      ],
      "metadata": {
        "id": "icPq7sAjEl19"
      }
    },
    {
      "cell_type": "markdown",
      "source": [
        "Funcoes iniciais"
      ],
      "metadata": {
        "id": "zTNA8WUHEkTN"
      }
    },
    {
      "cell_type": "code",
      "execution_count": null,
      "metadata": {
        "colab": {
          "base_uri": "https://localhost:8080/"
        },
        "id": "SxBHPf4CCnEh",
        "outputId": "f9d98679-2b77-4473-f61f-3624b429a0b7"
      },
      "outputs": [
        {
          "output_type": "stream",
          "name": "stdout",
          "text": [
            "Collecting ltn\n",
            "  Downloading ltn-2.1-py3-none-any.whl (13 kB)\n",
            "Requirement already satisfied: numpy in /usr/local/lib/python3.10/dist-packages (from ltn) (1.25.2)\n",
            "Requirement already satisfied: tensorflow in /usr/local/lib/python3.10/dist-packages (from ltn) (2.15.0)\n",
            "Requirement already satisfied: absl-py>=1.0.0 in /usr/local/lib/python3.10/dist-packages (from tensorflow->ltn) (1.4.0)\n",
            "Requirement already satisfied: astunparse>=1.6.0 in /usr/local/lib/python3.10/dist-packages (from tensorflow->ltn) (1.6.3)\n",
            "Requirement already satisfied: flatbuffers>=23.5.26 in /usr/local/lib/python3.10/dist-packages (from tensorflow->ltn) (24.3.25)\n",
            "Requirement already satisfied: gast!=0.5.0,!=0.5.1,!=0.5.2,>=0.2.1 in /usr/local/lib/python3.10/dist-packages (from tensorflow->ltn) (0.5.4)\n",
            "Requirement already satisfied: google-pasta>=0.1.1 in /usr/local/lib/python3.10/dist-packages (from tensorflow->ltn) (0.2.0)\n",
            "Requirement already satisfied: h5py>=2.9.0 in /usr/local/lib/python3.10/dist-packages (from tensorflow->ltn) (3.9.0)\n",
            "Requirement already satisfied: libclang>=13.0.0 in /usr/local/lib/python3.10/dist-packages (from tensorflow->ltn) (18.1.1)\n",
            "Requirement already satisfied: ml-dtypes~=0.2.0 in /usr/local/lib/python3.10/dist-packages (from tensorflow->ltn) (0.2.0)\n",
            "Requirement already satisfied: opt-einsum>=2.3.2 in /usr/local/lib/python3.10/dist-packages (from tensorflow->ltn) (3.3.0)\n",
            "Requirement already satisfied: packaging in /usr/local/lib/python3.10/dist-packages (from tensorflow->ltn) (24.0)\n",
            "Requirement already satisfied: protobuf!=4.21.0,!=4.21.1,!=4.21.2,!=4.21.3,!=4.21.4,!=4.21.5,<5.0.0dev,>=3.20.3 in /usr/local/lib/python3.10/dist-packages (from tensorflow->ltn) (3.20.3)\n",
            "Requirement already satisfied: setuptools in /usr/local/lib/python3.10/dist-packages (from tensorflow->ltn) (67.7.2)\n",
            "Requirement already satisfied: six>=1.12.0 in /usr/local/lib/python3.10/dist-packages (from tensorflow->ltn) (1.16.0)\n",
            "Requirement already satisfied: termcolor>=1.1.0 in /usr/local/lib/python3.10/dist-packages (from tensorflow->ltn) (2.4.0)\n",
            "Requirement already satisfied: typing-extensions>=3.6.6 in /usr/local/lib/python3.10/dist-packages (from tensorflow->ltn) (4.10.0)\n",
            "Requirement already satisfied: wrapt<1.15,>=1.11.0 in /usr/local/lib/python3.10/dist-packages (from tensorflow->ltn) (1.14.1)\n",
            "Requirement already satisfied: tensorflow-io-gcs-filesystem>=0.23.1 in /usr/local/lib/python3.10/dist-packages (from tensorflow->ltn) (0.36.0)\n",
            "Requirement already satisfied: grpcio<2.0,>=1.24.3 in /usr/local/lib/python3.10/dist-packages (from tensorflow->ltn) (1.62.1)\n",
            "Requirement already satisfied: tensorboard<2.16,>=2.15 in /usr/local/lib/python3.10/dist-packages (from tensorflow->ltn) (2.15.2)\n",
            "Requirement already satisfied: tensorflow-estimator<2.16,>=2.15.0 in /usr/local/lib/python3.10/dist-packages (from tensorflow->ltn) (2.15.0)\n",
            "Requirement already satisfied: keras<2.16,>=2.15.0 in /usr/local/lib/python3.10/dist-packages (from tensorflow->ltn) (2.15.0)\n",
            "Requirement already satisfied: wheel<1.0,>=0.23.0 in /usr/local/lib/python3.10/dist-packages (from astunparse>=1.6.0->tensorflow->ltn) (0.43.0)\n",
            "Requirement already satisfied: google-auth<3,>=1.6.3 in /usr/local/lib/python3.10/dist-packages (from tensorboard<2.16,>=2.15->tensorflow->ltn) (2.27.0)\n",
            "Requirement already satisfied: google-auth-oauthlib<2,>=0.5 in /usr/local/lib/python3.10/dist-packages (from tensorboard<2.16,>=2.15->tensorflow->ltn) (1.2.0)\n",
            "Requirement already satisfied: markdown>=2.6.8 in /usr/local/lib/python3.10/dist-packages (from tensorboard<2.16,>=2.15->tensorflow->ltn) (3.6)\n",
            "Requirement already satisfied: requests<3,>=2.21.0 in /usr/local/lib/python3.10/dist-packages (from tensorboard<2.16,>=2.15->tensorflow->ltn) (2.31.0)\n",
            "Requirement already satisfied: tensorboard-data-server<0.8.0,>=0.7.0 in /usr/local/lib/python3.10/dist-packages (from tensorboard<2.16,>=2.15->tensorflow->ltn) (0.7.2)\n",
            "Requirement already satisfied: werkzeug>=1.0.1 in /usr/local/lib/python3.10/dist-packages (from tensorboard<2.16,>=2.15->tensorflow->ltn) (3.0.1)\n",
            "Requirement already satisfied: cachetools<6.0,>=2.0.0 in /usr/local/lib/python3.10/dist-packages (from google-auth<3,>=1.6.3->tensorboard<2.16,>=2.15->tensorflow->ltn) (5.3.3)\n",
            "Requirement already satisfied: pyasn1-modules>=0.2.1 in /usr/local/lib/python3.10/dist-packages (from google-auth<3,>=1.6.3->tensorboard<2.16,>=2.15->tensorflow->ltn) (0.4.0)\n",
            "Requirement already satisfied: rsa<5,>=3.1.4 in /usr/local/lib/python3.10/dist-packages (from google-auth<3,>=1.6.3->tensorboard<2.16,>=2.15->tensorflow->ltn) (4.9)\n",
            "Requirement already satisfied: requests-oauthlib>=0.7.0 in /usr/local/lib/python3.10/dist-packages (from google-auth-oauthlib<2,>=0.5->tensorboard<2.16,>=2.15->tensorflow->ltn) (1.4.1)\n",
            "Requirement already satisfied: charset-normalizer<4,>=2 in /usr/local/lib/python3.10/dist-packages (from requests<3,>=2.21.0->tensorboard<2.16,>=2.15->tensorflow->ltn) (3.3.2)\n",
            "Requirement already satisfied: idna<4,>=2.5 in /usr/local/lib/python3.10/dist-packages (from requests<3,>=2.21.0->tensorboard<2.16,>=2.15->tensorflow->ltn) (3.6)\n",
            "Requirement already satisfied: urllib3<3,>=1.21.1 in /usr/local/lib/python3.10/dist-packages (from requests<3,>=2.21.0->tensorboard<2.16,>=2.15->tensorflow->ltn) (2.0.7)\n",
            "Requirement already satisfied: certifi>=2017.4.17 in /usr/local/lib/python3.10/dist-packages (from requests<3,>=2.21.0->tensorboard<2.16,>=2.15->tensorflow->ltn) (2024.2.2)\n",
            "Requirement already satisfied: MarkupSafe>=2.1.1 in /usr/local/lib/python3.10/dist-packages (from werkzeug>=1.0.1->tensorboard<2.16,>=2.15->tensorflow->ltn) (2.1.5)\n",
            "Requirement already satisfied: pyasn1<0.7.0,>=0.4.6 in /usr/local/lib/python3.10/dist-packages (from pyasn1-modules>=0.2.1->google-auth<3,>=1.6.3->tensorboard<2.16,>=2.15->tensorflow->ltn) (0.6.0)\n",
            "Requirement already satisfied: oauthlib>=3.0.0 in /usr/local/lib/python3.10/dist-packages (from requests-oauthlib>=0.7.0->google-auth-oauthlib<2,>=0.5->tensorboard<2.16,>=2.15->tensorflow->ltn) (3.2.2)\n",
            "Installing collected packages: ltn\n",
            "Successfully installed ltn-2.1\n"
          ]
        }
      ],
      "source": [
        "!pip install ltn\n",
        "\n",
        "import matplotlib.pyplot as plt\n",
        "import numpy as np\n",
        "import tensorflow as tf\n",
        "import numpy as np\n",
        "import matplotlib.patches as patches\n",
        "import math\n",
        "import string\n",
        "import torch\n",
        "import ltn\n"
      ]
    },
    {
      "cell_type": "code",
      "source": [
        "##parte do código milenna\n",
        "\n",
        "def get_coordinates( bb ):\n",
        "    x0 = bb[ 0 ]\n",
        "    y0 = bb[ 1 ]\n",
        "    x1 = bb[ 0 ] + bb[ -2 ]\n",
        "    y1 = bb[ 1 ] + bb[ -1 ]\n",
        "    return [ x0, y0, x1, y1 ]\n",
        "\n",
        "\n",
        "def calculate_angle( bb1, bb2 ):\n",
        "    c2 = np.array( (bb2[ 0 ], bb2[ 1 ]) )\n",
        "    c1 = np.array( (bb1[ 0 ], bb1[ 1 ]) )\n",
        "\n",
        "    x = c2 - c1\n",
        "\n",
        "    return np.angle( x[ 0 ] + 1j * x[ 1 ], deg = True )\n",
        "\n",
        "\n"
      ],
      "metadata": {
        "id": "Hs2rbcU6Cp46"
      },
      "execution_count": null,
      "outputs": []
    },
    {
      "cell_type": "markdown",
      "source": [
        "Retorna os elementos dos bbs"
      ],
      "metadata": {
        "id": "GNk-WwIPDCAP"
      }
    },
    {
      "cell_type": "code",
      "source": [
        "def translate_bbs( bb1, bb2, is_class_first = False,\n",
        "                   is_yolo_format = False ):\n",
        "    \"\"\"\n",
        "    Translate bounding box coordinates based on specified conditions.\n",
        "    Parameters:\n",
        "        bb1 (tensor): The coordinates of the first bounding box.\n",
        "        bb2 (tensor): The coordinates of the second bounding box.\n",
        "        is_class_first (bool, optional): If True, assumes the class is the first element in each bounding box. Default is False.\n",
        "        is_yolo_format (bool, optional): If True, assumes the bounding boxes are in YOLO format. Default is False.\n",
        "\n",
        "    Returns:\n",
        "        tuple: Translated coordinates of the first and second bounding boxes in the format (x, y, w, h).\n",
        "\n",
        "    Example:\n",
        "        bb1 = tf.constant([0.3, 0.3, 0.2, 0.2])\n",
        "        bb2 = tf.constant([0.3, 0.3, 0.1, 0.1])\n",
        "        translated_bb1, translated_bb2 = translate_bbs(bb1, bb2, is_class_first=True, is_yolo_format=True)\n",
        "    \"\"\"\n",
        "    # if is_class_first:\n",
        "    #     indices = (1, 2, 3, 4) if is_yolo_format else (0, 1, 2, 3)\n",
        "    # else:\n",
        "    #     indices = (0, 1, 2, 3) if is_yolo_format else (0, 1, 2, 3)\n",
        "    # x1, y1, w1, h1 = bb1[ ..., indices ]\n",
        "    # x2, y2, w2, h2 = bb2[ ..., indices ]\n",
        "    # if is_yolo_format:\n",
        "    #     x1, y1 = x1 - w1 / 2.0, y1 - h1 / 2.0\n",
        "    #     x2, y2 = x2 - w2 / 2.0, y2 - h2 / 2.0\n",
        "    if is_class_first :\n",
        "        if is_yolo_format :\n",
        "            x1, y1 = bb1[ ..., 1 ] - bb1[ ..., 3 ] / 2.0, bb1[ ..., 2 ] - bb1[ ..., 4 ] / 2.0\n",
        "            x2, y2 = bb2[ ..., 1 ] - bb2[ ..., 3 ] / 2.0, bb2[ ..., 2 ] - bb2[ ..., 4 ] / 2.0\n",
        "            w1, h1, w2, h2 = bb1[ ..., 3 ], bb1[ ..., 4 ], bb2[ ..., 3 ], bb2[ ..., 4 ]\n",
        "        else :\n",
        "            x1, y1, w1, h1 = bb1[ ..., 1 ], bb1[ ..., 2 ], bb1[ ..., 3 ], bb1[ ..., 4 ]\n",
        "            x2, y2, w2, h2 = bb2[ ..., 1 ], bb2[ ..., 2 ], bb2[ ..., 3 ], bb2[ ..., 4 ]\n",
        "\n",
        "    else :\n",
        "        if is_yolo_format :\n",
        "            x1, y1 = bb1[ ..., 0 ] - bb1[ ..., 2 ] / 2.0, bb1[ ..., 1 ] - bb1[ ..., 3 ] / 2.0\n",
        "            x2, y2 = bb2[ ..., 0 ] - bb2[ ..., 2 ] / 2.0, bb2[ ..., 1 ] - bb2[ ..., 3 ] / 2.0\n",
        "            w1, h1, w2, h2 = bb1[ ..., 2 ], bb1[ ..., 3 ], bb2[ ..., 3 ], bb2[ ..., 3 ]\n",
        "        else :\n",
        "            x1, y1, w1, h1 = bb1[ ..., 0 ], bb1[ ..., 1 ], bb1[ ..., 2 ], bb1[ ..., 3 ]\n",
        "            x2, y2, w2, h2 = bb2[ ..., 0 ], bb2[ ..., 1 ], bb2[ ..., 2 ], bb2[ ..., 3 ]\n",
        "\n",
        "    return (x1, y1, w1, h1), (x2, y2, w2, h2)\n",
        "\n"
      ],
      "metadata": {
        "id": "1WeJLzLgC2f5"
      },
      "execution_count": null,
      "outputs": []
    },
    {
      "cell_type": "markdown",
      "source": [
        "Funções que determinam duas bbs (overlap, partial e distinct)\n",
        "Recebem em tensores e fazem a conversão dentro da função"
      ],
      "metadata": {
        "id": "7cXykSkfDGCL"
      }
    },
    {
      "cell_type": "markdown",
      "source": [
        "--Overlap   | Verificar se pode voltar em bool (ajustar denovo)"
      ],
      "metadata": {
        "id": "MiL_jc0HDPnI"
      }
    },
    {
      "cell_type": "code",
      "source": [
        "\n",
        "def O( bb1: tf.Tensor, bb2: tf.Tensor, is_yolo_format = True, is_class_first = False ):\n",
        "    \"\"\"\n",
        "    Check if two bounding boxes overlap.\n",
        "    Parameters:\n",
        "        bb1 (tensor): The coordinates of the first bounding box.\n",
        "        bb2 (tensor): The coordinates of the second bounding box.\n",
        "        is_class_first (bool, optional): If True, assumes the class is the first element in each bounding box. Default is False.\n",
        "        is_yolo_format (bool, optional): If True, assumes the bounding boxes are in YOLO format. Default is False.\n",
        "    Returns:\n",
        "        bool: True if the bounding boxes overlap, False otherwise.\n",
        "\n",
        "    Example:\n",
        "        bb1 = tf.constant( [ 0.3, 0.3, 0.2, 0.2 ] )\n",
        "        bb2 = tf.constant( [ 0.3, 0.3, 0.1, 0.1 ] )\n",
        "\n",
        "        print( 'Check for O (True): ', O( bbs = (bb1, bb2), is_yolo_format = True, is_class_first = False ) )\n",
        "    \"\"\"\n",
        "    (x1, y1, w1, h1), (x2, y2, w2, h2) = translate_bbs( bb1, bb2, is_yolo_format = is_yolo_format, is_class_first = is_class_first )\n",
        "\n",
        "    condition1 = tf.logical_and(tf.greater_equal( x2, x1 ), tf.less_equal( x2 + w2, x1 + w1 ))\n",
        "    condition2 = tf.logical_and(tf.greater( y2, y1 ), tf.less( y2 + h2, y1 + h1 ))\n",
        "    # print(tf.logical_or(condition1,condition2))\n",
        "    overlap = tf.logical_or( condition1, condition2 )\n",
        "    return overlap"
      ],
      "metadata": {
        "id": "ESa2Swo1DNbC"
      },
      "execution_count": null,
      "outputs": []
    },
    {
      "cell_type": "markdown",
      "source": [],
      "metadata": {
        "id": "8076abynBMX9"
      }
    },
    {
      "cell_type": "markdown",
      "source": [
        "PO"
      ],
      "metadata": {
        "id": "IEwidnQxDOph"
      }
    },
    {
      "cell_type": "code",
      "source": [
        "\n",
        "# def PO(bbs, is_yolo_format=True):\n",
        "def PO( bb1: tf.Tensor, bb2: tf.Tensor, is_yolo_format = True, is_class_first = False ):\n",
        "    \"\"\"\n",
        "    Check if two bounding boxes partially overlap.\n",
        "\n",
        "    Parameters:\n",
        "        bb1 (tensor): The coordinates of the first bounding box.\n",
        "        bb2 (tensor): The coordinates of the second bounding box.\n",
        "        is_class_first (bool, optional): If True, assumes the class is the first element in each bounding box. Default is False.\n",
        "        is_yolo_format (bool, optional): If True, assumes the bounding boxes are in YOLO format. Default is False.\n",
        "\n",
        "    Returns:\n",
        "        bool: True if the bounding boxes partially overlap, False otherwise.\n",
        "\n",
        "    Note: (x1,y1) and (x2,y2) ordered pair ar located in lowest-left corner of the bounding box\n",
        "    \"\"\"\n",
        "    (x1, y1, w1, h1), (x2, y2, w2, h2) = translate_bbs( bb1, bb2, is_yolo_format = is_yolo_format, is_class_first = is_class_first )\n",
        "    '''\n",
        "    mesmo que:\n",
        "                # PO 1\n",
        "            ((x2 < x1) and ((x2 + w2) > x1) and\n",
        "             (((y2 < y1) and ((y2 + h2) > y1)) or ((y2 + h2) > (y1 + h1))))\n",
        "\n",
        "            # PO 2\n",
        "            or (((x2 < x1) and ((x2 + w2) > x1) and ((x2 + w2) < (x1 + w1))) and\n",
        "                ((((y2 + h2) > (y1 + h1)) and (y2 < (y1 + h1))) or ((y2 < y1) and ((y2 + h2) > y1))))\n",
        "\n",
        "            # PO 3\n",
        "            or (((x2 > x1) and ((x2 + h2) < (x1 + h1))) and\n",
        "                ((((y2 + h2) > (y1 + h1)) and (y2 < (y1 + h1))) or ((y2 < y1) and ((y2 + h2) > y1))))\n",
        "\n",
        "            # PO 4\n",
        "            or (((x2 > x1) and (x2 < (x1 + w1)) and ((x2 + w2) > (x1 + w1))) and\n",
        "                ((((y2 + h2) < (y1 + h1)) and ((y2 + h2) > y1)) or ((y2 > y1) and (y2 < (y1 + h1)))))\n",
        "    Essas condições são para elementos iteraveis (list), mas aqui é adaptado para uso em tf.Tensor()\n",
        "    '''\n",
        "    # Condition 1\n",
        "    condition1 = tf.logical_and(\n",
        "            tf.logical_and( x2 < x1, x2 + w2 > x1 ),\n",
        "            tf.logical_or(\n",
        "                    tf.logical_and( y2 < y1, y2 + h2 > y1 ),\n",
        "                    y2 + h2 > y1 + h1\n",
        "            )\n",
        "    )\n",
        "    # Condition 2\n",
        "    condition2 = tf.logical_and(\n",
        "            tf.logical_and( x2 < x1, x2 + w2 > x1 ),\n",
        "            tf.logical_and(\n",
        "                    x2 + w2 < x1 + w1,\n",
        "                    tf.logical_or(\n",
        "                            tf.logical_and( y2 + h2 > y1 + h1, y2 < y1 + h1 ),\n",
        "                            tf.logical_and( y2 < y1, y2 + h2 > y1 )\n",
        "                    )\n",
        "            )\n",
        "    )\n",
        "    # Condition 3\n",
        "    condition3 = tf.logical_and(\n",
        "            tf.logical_and( x2 > x1, x2 + h2 < x1 + h1 ),\n",
        "            tf.logical_or(\n",
        "                    tf.logical_and( y2 + h2 > y1 + h1, y2 < y1 + h1 ),\n",
        "                    tf.logical_and( y2 < y1, y2 + h2 > y1 )\n",
        "            )\n",
        "    )\n",
        "    # Condition 4\n",
        "    condition4 = tf.logical_and(\n",
        "            tf.logical_and( x2 > x1, tf.logical_and( x2 < x1 + w1, x2 + w2 > x1 + w1 ) ),\n",
        "            tf.logical_or(\n",
        "                    tf.logical_and( y2 + h2 < y1 + h1, y2 + h2 > y1 ),\n",
        "                    tf.logical_and( y2 > y1, tf.logical_and( y2 < y1 + h1, y2 < y1 + h1 ) )\n",
        "            )\n",
        "    )\n",
        "    # Final condition, combining all the above conditions with logical OR\n",
        "    final_condition = tf.logical_or(\n",
        "            tf.logical_or( condition1, condition2 ),\n",
        "            tf.logical_or( condition3, condition4 )\n",
        "    )\n",
        "    return final_condition\n"
      ],
      "metadata": {
        "id": "KO--KipSDeRU"
      },
      "execution_count": null,
      "outputs": []
    },
    {
      "cell_type": "markdown",
      "source": [
        "Disjoint"
      ],
      "metadata": {
        "id": "LCbgeh3vDzOv"
      }
    },
    {
      "cell_type": "code",
      "source": [
        "\n",
        "def D( bb1: tf.Tensor, bb2: tf.Tensor, is_yolo_format = True, is_class_first = False ):\n",
        "    \"\"\"\n",
        "    Check if two bounding boxes are disjoint.\n",
        "    Parameters:\n",
        "        bb1 (tuple): The coordinates of the first bounding box in the format (x1, y1, w1, h1).\n",
        "        bb2 (tuple): The coordinates of the second bounding box in the format (x2, y2, w2, h2).\n",
        "        is_class_first (bool, optional): If True, assumes the class is the first element in each bounding box. Default is False.\n",
        "        is_yolo_format (bool, optional): If True, assumes the bounding boxes are in YOLO format. Default is False.\n",
        "    Returns:\n",
        "        bool: True if the bounding boxes are disjoint, False otherwise.\n",
        "    \"\"\"\n",
        "    (x1, y1, w1, h1), (x2, y2, w2, h2) = translate_bbs( bb1, bb2, is_yolo_format = is_yolo_format, is_class_first = is_class_first )\n",
        "\n",
        "    condition1 = tf.less( x2 + w2, x1 )\n",
        "    condition2 = tf.greater( x2, x1 + w1 )\n",
        "    condition3 = tf.greater( y2, y1 + h1 )\n",
        "    condition4 = tf.less( y2 + h2, y1 )\n",
        "\n",
        "    bool_tensor = tf.logical_or( tf.logical_or( condition1, condition2 ),\n",
        "                                 tf.logical_or( condition3, condition4 ) )\n",
        "    return bool_tensor\n"
      ],
      "metadata": {
        "id": "XZBdJz4VD3iI"
      },
      "execution_count": null,
      "outputs": []
    },
    {
      "cell_type": "markdown",
      "source": [
        "Verificar que as bbs para esses exemplo foram definidas como:"
      ],
      "metadata": {
        "id": "D_9-6-ieD-_T"
      }
    },
    {
      "cell_type": "markdown",
      "source": [
        "\n",
        "```\n",
        "bb1 = tf.constant( [ 0.5, 0.4, 0.2, 0.3 ] )\n",
        "bb2 = tf.constant( [ 0.5, 0.6, 0.2, 0.2 ] )\n",
        "```\n",
        "\n"
      ],
      "metadata": {
        "id": "qR31YmRGEGfr"
      }
    },
    {
      "cell_type": "markdown",
      "source": [
        "# Funções Spartial Relation"
      ],
      "metadata": {
        "id": "AYRMb6s0ET9g"
      }
    },
    {
      "cell_type": "markdown",
      "source": [
        "## Funções requisito pra gerar os Bbs"
      ],
      "metadata": {
        "id": "M7FXVCGzGob2"
      }
    },
    {
      "cell_type": "code",
      "source": [
        "def get_rectangle(bb, edcolor='r'):\n",
        "    \"\"\"\n",
        "    Create a rectangle patch for a given bounding box.\n",
        "    This function creates and returns a rectangle patch object using the specified bounding box coordinates. The rectangle\n",
        "    is defined by the center point (bb[0], bb[1]), width bb[2], and height bb[3]. The edge color of the rectangle can be\n",
        "    customized using the optional 'edcolor' parameter.\n",
        "\n",
        "    Parameters:\n",
        "    bb (tuple): The bounding box coordinates in the format (center_x, center_y, width, height).\n",
        "    edcolor (str, optional): The edge color of the rectangle (default is 'r').\n",
        "\n",
        "    Returns:\n",
        "    patches.Rectangle: A rectangle patch object representing the bounding box.\n",
        "\n",
        "    Rectangle(xy=(0, 0), width=100, height=100, angle=0)\n",
        "    Note:\n",
        "    - The function assumes the bounding box coordinates are in the form (center_x, center_y, width, height).\n",
        "    - The default edge color is 'r' (red).\n",
        "    - The face color of the rectangle is set to 'none', resulting in an empty rectangle.\n",
        "    \"\"\"\n",
        "    return patches.Rectangle((bb[0] - bb[2] / 2, bb[1] - bb[3] / 2), bb[2], bb[3], linewidth=2, edgecolor=edcolor,\n",
        "                             facecolor='none')\n",
        "\n",
        "\n",
        "def get_corners_coord(bb):\n",
        "    x0 = bb[0] - bb[-2] / 2\n",
        "    y0 = bb[1] - bb[-1] / 2\n",
        "    x1 = bb[0] + bb[-2] / 2\n",
        "    y1 = bb[1] + bb[-1] / 2\n",
        "\n",
        "    top_left = (x0, y0)\n",
        "    top_right = (x1, y0)\n",
        "    bottom_left = (x0, y1)\n",
        "    bottom_right = (x1, y1)\n",
        "\n",
        "    return [top_left, top_right, bottom_left, bottom_right]\n",
        "\n",
        "\n",
        "def get_interested_angles(bb):\n",
        "    \"\"\"\n",
        "    Get the list of interested angles for a given bounding box.\n",
        "\n",
        "    This function calculates and returns a list of angles of interest for a given bounding box. The angles include\n",
        "    0.0, 90.0, -90.0, and 180.0, representing horizontal, vertical, and diagonal orientations.\n",
        "\n",
        "    Parameters:\n",
        "    bb (tuple): The bounding box coordinates in the format (center_x, center_y, width, height).\n",
        "\n",
        "    Returns:\n",
        "    list: A list of angles representing the interested angles for the bounding box.\n",
        "\n",
        "    Example:\n",
        "    # >>> bounding_box = (50, 50, 100, 100)\n",
        "    # >>> angles = get_interested_angles(bounding_box)\n",
        "    # >>> print(angles)\n",
        "    [0.0, 90.0, -90.0, 180.0, 45.0, -45.0, 135.0, -135.0]\n",
        "\n",
        "    Note:\n",
        "    - The function assumes the bounding box coordinates are in the form (center_x, center_y, width, height).\n",
        "    - The additional diagonal angles are calculated based on the corners of the bounding box.\n",
        "    \"\"\"\n",
        "    angles = [0.0, 90.0, -90.0, 180.0]\n",
        "    corners = get_corners_coord(bb)\n",
        "\n",
        "    boxes = [(coord[0], coord[1], 0.1 * bb[2], 0.1 * bb[3]) for coord in corners]\n",
        "    diag_angles = [calculate_angle(box, bb) for box in boxes]\n",
        "\n",
        "    # print('diag_angles : ', diag_angles)\n",
        "\n",
        "    return angles + diag_angles\n",
        "\n",
        "def calculate_angle(bb1, bb2):\n",
        "  c2 = np.array((bb2[0], bb2[1]))\n",
        "  c1 = np.array((bb1[0], bb1[1]))\n",
        "\n",
        "  x = c2 - c1\n",
        "\n",
        "  return np.angle(x[0] + 1j * x[1], deg=True)\n"
      ],
      "metadata": {
        "id": "wqjFslzPGtPs"
      },
      "execution_count": null,
      "outputs": []
    },
    {
      "cell_type": "markdown",
      "source": [
        "Geradores auxiliares"
      ],
      "metadata": {
        "id": "bLp_iWjsHCi5"
      }
    },
    {
      "cell_type": "code",
      "source": [
        "def  generate_equally_spaced_points(bounding_box):\n",
        "    \"\"\"\n",
        "    Generate equally spaced points within a bounding box in clockwise manner.\n",
        "\n",
        "    This function calculates and generates equally spaced points within a given bounding box. The points are distributed\n",
        "    based on different angles of interest within the box.\n",
        "\n",
        "    Parameters:\n",
        "    bounding_box (tuple): The bounding box coordinates in the format (center_x, center_y, width, height).\n",
        "\n",
        "    Returns:\n",
        "    list: A list of (x, y) coordinates representing the equally spaced points within the bounding box.\n",
        "    \"\"\"\n",
        "    center_x, center_y, width, height = bounding_box\n",
        "    points = []\n",
        "\n",
        "    # Calculate spacing between points\n",
        "    spacing_horizontal = width / 8\n",
        "    spacing_vertical = height / 8\n",
        "\n",
        "    diagonal_length = math.sqrt(width ** 2 + height ** 2)\n",
        "    spacing_diagonal = diagonal_length / 8\n",
        "\n",
        "    angles = get_interested_angles(bounding_box)\n",
        "    angles.sort()\n",
        "\n",
        "    pos_angles = [x for x in angles if x >= 0.0]\n",
        "    neg_angles = [x for x in angles if x < 0.0]\n",
        "\n",
        "    # ajustar angulos positivos para ordem crescente\n",
        "    pos_angles.sort()\n",
        "    # ajustar angulos negativos para ordem crescente\n",
        "    neg_angles.sort()\n",
        "\n",
        "    angles = pos_angles + neg_angles\n",
        "    # para cada bb das direções, contando apartir do centro (1, 2 , 3 bb)\n",
        "    for i in range(1, 4):\n",
        "\n",
        "        # percorrendo os angulos de forma horária (pois está organizado : 0* -> 90 -> 180* e 180* -> -90 -> 0*)\n",
        "\n",
        "        for angle in angles:\n",
        "\n",
        "            x_signal = 1.0 if angle > 90.0 or angle < -90.0 else -1.0\n",
        "            y_signal = 1.0 if angle > 0.0 else -1.0\n",
        "\n",
        "            # horizontal\n",
        "            if angle in [0.0, 180.0]:\n",
        "                x = center_x + (i * spacing_horizontal * x_signal)\n",
        "                y = center_y\n",
        "\n",
        "            # diagonal\n",
        "            if angle not in [0.0, 90.0, -90.0, 180.0]:\n",
        "                x = center_x - i * spacing_diagonal * math.cos(math.radians(angle))\n",
        "                y = center_y - i * spacing_diagonal * math.sin(math.radians(angle))\n",
        "\n",
        "            # vertical\n",
        "            if angle in [90.0, -90.0]:\n",
        "                x = center_x\n",
        "                y = center_y - (i * spacing_vertical * y_signal)\n",
        "\n",
        "            points.append((x, y))\n",
        "\n",
        "\n",
        "    return points\n"
      ],
      "metadata": {
        "id": "XlKvnVqvEEmp"
      },
      "execution_count": null,
      "outputs": []
    },
    {
      "cell_type": "code",
      "source": [
        "## gera os quadrados externos\n",
        "def plot_comparisons_diagonals(bb, boxes):\n",
        "    \"\"\"\n",
        "    Plot comparisons of bounding boxes in relation to a main bounding box.\n",
        "\n",
        "    This function generates a matplotlib figure with four subplots to visualize the comparisons of bounding boxes with\n",
        "    respect to a main bounding box. The center_box and the main bounding box are plotted on each subplot for comparison.\n",
        "\n",
        "    Parameters:\n",
        "    bb (tuple): The bounding box coordinates of the main box in the format (x, y, width, height).\n",
        "    boxes (list): A list of bounding box coordinates in the format [(x1, y1, width1, height1), (x2, y2, width2, height2), ...].\n",
        "\n",
        "    Returns:\n",
        "    None\n",
        "\n",
        "    Example:\n",
        "    bb = (10, 20, 50, 30)\n",
        "    boxes = [(15, 25, 40, 20), (20, 30, 35, 25), (25, 35, 30, 30)]\n",
        "    plot_comparisons_diagonals(bb, boxes)\n",
        "    \"\"\"\n",
        "    # fig, axes = plt.subplots(nrows=2, ncols=2)\n",
        "    fig, ((ax1, ax2), (ax3, ax4)) = plt.subplots(2, 2)\n",
        "\n",
        "    # inSideLeftAltAbove, inSideLeftAltBelow, inSideRightAltAbove, inSideRightAltBelow\n",
        "    name = list(string.ascii_uppercase)[:len(boxes)]\n",
        "\n",
        "    # Plot center box and bb for comparision\n",
        "\n",
        "    center_box = boxes[0]\n",
        "\n",
        "    for ax in [ax1, ax2, ax3, ax4]:\n",
        "        ax.add_patch(get_rectangle(bb, 'r'))\n",
        "        ax.add_patch(get_rectangle(center_box, 'g'))\n",
        "        ax.text(center_box[0], center_box[1], f'box : {name[0]}', ha='center', va='center', fontsize=12, color='blue')\n",
        "        ax.invert_yaxis()\n",
        "        ax.autoscale()\n",
        "\n",
        "    # Add rectangles using patches.Rectangle()\n",
        "\n",
        "    rect_inSideLeftAbove = get_rectangle(boxes[2], 'b')\n",
        "    ax1.add_patch(rect_inSideLeftAbove)\n",
        "    ax1.set_title(f'inSideLeftAltAbove : {inSideLeftAltAbove(boxes[2], center_box)}')\n",
        "    ax1.text(boxes[2][0], boxes[2][1], f'box : {name[2]}', ha='center', va='center', fontsize=12, color='blue')\n",
        "\n",
        "    rect_inSideRightAltAbove = get_rectangle(boxes[4], 'b')\n",
        "    ax2.add_patch(rect_inSideRightAltAbove)\n",
        "    ax2.set_title(f'inSideRightAltAbove : {inSideRightAltAbove(boxes[4], center_box)}')\n",
        "    ax2.text(boxes[4][0], boxes[4][1], f'box : {name[4]}', ha='center', va='center', fontsize=12, color='blue')\n",
        "\n",
        "    rect_inSideRightAltBelow = get_rectangle(boxes[6], 'b')\n",
        "    ax3.add_patch(rect_inSideRightAltBelow)\n",
        "    ax3.set_title(f'inSideRightAltBelow : {inSideRightAltBelow(boxes[6], center_box)}')\n",
        "    ax3.text(boxes[6][0], boxes[6][1], f'box : {name[6]}', ha='center', va='center', fontsize=12, color='blue')\n",
        "\n",
        "    rect_inSideLeftAltBelow = get_rectangle(boxes[8], 'b')\n",
        "    ax4.add_patch(rect_inSideLeftAltBelow)\n",
        "    ax4.set_title(f'inSideLeftAltBelow : {inSideLeftAltBelow(boxes[8], center_box)}')\n",
        "    ax4.text(boxes[8][0], boxes[8][1], f'box : {name[8]}', ha='center', va='center', fontsize=15, color='blue')\n",
        "\n",
        "    fig.tight_layout()\n",
        "    plt.show()\n"
      ],
      "metadata": {
        "id": "oOrp4QPWHPf6"
      },
      "execution_count": null,
      "outputs": []
    },
    {
      "cell_type": "markdown",
      "source": [
        "**Pode ser nosso dataset**"
      ],
      "metadata": {
        "id": "HrVz0MlfH7Uj"
      }
    },
    {
      "cell_type": "code",
      "source": [
        "#Gera bounding boxes dentro de bounding boxes , no sentido anti-horário\n",
        "def generate_eq_spaced_bbs_in_(bb, dictionary_with_letters=True):\n",
        "    \"\"\"\n",
        "    Function to generate bounding boxes inside of a bounding box 'bb' in clockwise direction.\n",
        "\n",
        "    Parameters:\n",
        "    bb (list): list of bounding boxes in YOLO Format ([x_center, y_center, width, height]).\n",
        "    dictionary_with_letters (bool): if boxes will be referred as Alphabetic letter ( A to Z ).\n",
        "\n",
        "    Returns:\n",
        "    bbs (list) : list of resulting bounding boxes\n",
        "\n",
        "    The first element of the 'boxes' list is considered as the center_box. The subsequent bounding boxes are arranged\n",
        "    in a clockwise manner starting from 0 degrees and progressing to 90 degrees, 180 degrees, -90 degrees, and the\n",
        "    diagonal angle before 0 degrees.\n",
        "\n",
        "    \"\"\"\n",
        "\n",
        "    # print(f'x : {bb[0]}, y : {bb[1]}')\n",
        "\n",
        "    angles = get_interested_angles(bb)\n",
        "    angles.sort()\n",
        "\n",
        "    ## get boxes\n",
        "    center_coord = generate_equally_spaced_points(bb)\n",
        "    # print('center coordinates : ', center_coord)\n",
        "\n",
        "    boxes = [[coord[0], coord[1], 0.1 * bb[2], 0.1 * bb[3]] for coord in center_coord]\n",
        "\n",
        "    center_box = [bb[0], bb[1], 0.1 * bb[2], 0.1 * bb[3]]\n",
        "\n",
        "    bbs = [center_box] + boxes\n",
        "\n",
        "\n",
        "    if dictionary_with_letters:\n",
        "        letters = list(string.ascii_uppercase)[:len(bbs) + 1]\n",
        "        result_bbs = {letter: box for letter, box in zip(letters, bbs)}\n",
        "        greater_box = [bb[0], bb[1], 2 * (result_bbs['N'][0] - bb[0]), 2 * (result_bbs['P'][1] - bb[1])]\n",
        "\n",
        "        result_bbs[letters[-1]] = greater_box\n",
        "\n",
        "        return result_bbs\n",
        "    else:\n",
        "        return bbs\n"
      ],
      "metadata": {
        "id": "Q1y6fPxVHXHS"
      },
      "execution_count": null,
      "outputs": []
    },
    {
      "cell_type": "code",
      "source": [
        "# plota as bbs com nomes\n",
        "def plot_all_bb_with_names(bb, boxes, name=list(string.ascii_uppercase)):\n",
        "    \"\"\"\n",
        "    Plot bounding boxes with corresponding names on a matplotlib figure.\n",
        "\n",
        "    Parameters:\n",
        "    bb (tuple): The bounding box coordinates of the main box (x, y, width, height).\n",
        "    boxes (list): A list of bounding box coordinates (x, y, width, height).\n",
        "    name (list, optional): A list of names corresponding to each box. Default is a list of uppercase letters.\n",
        "\n",
        "    Returns:\n",
        "    None\n",
        "\n",
        "    Example:\n",
        "    bb = (10, 20, 50, 30)\n",
        "    boxes = [(15, 25, 40, 20), (20, 30, 35, 25), (25, 35, 30, 30)]\n",
        "    plot_all_bb_with_names(bb, boxes)\n",
        "    \"\"\"\n",
        "    name = list(string.ascii_uppercase)[:len(boxes)]\n",
        "    print(f'len_boxes : {len(boxes)}, len_names : {len(name)},name : {name}')\n",
        "\n",
        "    fig, ax = plt.subplots()\n",
        "    ax.add_patch(get_rectangle(bb))\n",
        "    ax.set_title('Boxes Generated')\n",
        "\n",
        "    if isinstance(boxes, dict):\n",
        "        boxes_keys = list(boxes.keys())\n",
        "\n",
        "        for i in range(0, len(boxes)):\n",
        "\n",
        "            key_at_index = boxes_keys[i]\n",
        "            box = boxes[key_at_index]\n",
        "\n",
        "\n",
        "            if i == 0:\n",
        "                ed = 'orange'\n",
        "            elif (i % 2 == 0 and not (i == '0') and not (i == len(boxes) - 1)):\n",
        "                ed = 'red'\n",
        "            elif i == len( boxes ) - 1 :\n",
        "                ed = 'green'\n",
        "            else:\n",
        "                ed = 'magenta'\n",
        "\n",
        "            ax.add_patch(get_rectangle(box, edcolor=ed))\n",
        "            ax.text(box[0] + 0.3 * box[2], box[1] - 0.55 * box[3], f'box : {name[i]}', ha='center', va='center', fontsize=12,\n",
        "                    color='blue')\n",
        "    else:\n",
        "      for i in range(0, len(boxes)):\n",
        "        if i == 0:\n",
        "            ed = 'orange'\n",
        "        elif (i % 2 == 0 and not (i == '0') and not (i == len(boxes) - 1)):\n",
        "            ed = 'red'\n",
        "        elif i == len( boxes ) - 1 :\n",
        "            ed = 'green'\n",
        "        else:\n",
        "            ed = 'magenta'\n",
        "\n",
        "        ax.add_patch(get_rectangle(boxes[i], edcolor=ed))\n",
        "        ax.text(boxes[i][0], boxes[i][1] - 0.10, f'box : {name[i]}', ha='center', va='center', fontsize=12,\n",
        "                color='blue')\n",
        "\n",
        "\n",
        "\n",
        "    ax.legend(handles=[patches.Patch(color='red', label='diagonals'),\n",
        "                       patches.Patch(color='magenta', label='horizontal and vertical'),\n",
        "                       patches.Patch(color='orange', label='center_box'),\n",
        "                       patches.Patch(color='green', label='greater_box')])\n",
        "    ax.invert_yaxis()\n",
        "    fig.tight_layout()\n",
        "    plt.show()\n"
      ],
      "metadata": {
        "id": "30ps8fA7H1T5"
      },
      "execution_count": null,
      "outputs": []
    },
    {
      "cell_type": "markdown",
      "source": [
        "# # Podemos usar as funções que geram\n",
        "\n",
        "\n",
        "\n",
        "\n"
      ],
      "metadata": {
        "id": "4cev3aJrE6G9"
      }
    },
    {
      "cell_type": "code",
      "source": [
        "#\n",
        "bb1 = [0.5, 0.5, 0.2, 0.6]\n",
        "clockwise_bounding_boxes = generate_eq_spaced_bbs_in_(bb1)"
      ],
      "metadata": {
        "id": "a2tOqPnOJhfM"
      },
      "execution_count": null,
      "outputs": []
    },
    {
      "cell_type": "code",
      "source": [
        "#Definindo um referencial para a primeira bounding box\n",
        "bb1 = [0.5, 0.5, 0.2, 0.6]\n",
        "clockwise_bounding_boxes = generate_eq_spaced_bbs_in_(bb1)\n",
        "\n",
        "#Passando para tensores:\n",
        "A, B, C, D, E, F, G, H, I, J, K, L, M, N, O, P, Q, R, S, T, U, V, W, X, Y, Z = [\n",
        "    (tf.constant((clockwise_bounding_boxes.get(letter))))\n",
        "    for letter in \"ABCDEFGHIJKLMNOPQRSTUVWXYZ\"\n",
        "]"
      ],
      "metadata": {
        "id": "U3o8W4NA5c7l"
      },
      "execution_count": null,
      "outputs": []
    },
    {
      "cell_type": "code",
      "source": [
        "clockwise_bounding_boxes"
      ],
      "metadata": {
        "colab": {
          "base_uri": "https://localhost:8080/"
        },
        "id": "VPkt_gISGdKx",
        "outputId": "323a600c-46b1-4229-bf9d-95b5481890be"
      },
      "execution_count": null,
      "outputs": [
        {
          "output_type": "execute_result",
          "data": {
            "text/plain": [
              "{'A': [0.5, 0.5, 0.020000000000000004, 0.06],\n",
              " 'B': [0.475, 0.5, 0.020000000000000004, 0.06],\n",
              " 'C': [0.475, 0.425, 0.020000000000000004, 0.06],\n",
              " 'D': [0.5, 0.425, 0.020000000000000004, 0.06],\n",
              " 'E': [0.525, 0.425, 0.020000000000000004, 0.06],\n",
              " 'F': [0.525, 0.5, 0.020000000000000004, 0.06],\n",
              " 'G': [0.525, 0.575, 0.020000000000000004, 0.06],\n",
              " 'H': [0.5, 0.575, 0.020000000000000004, 0.06],\n",
              " 'I': [0.475, 0.575, 0.020000000000000004, 0.06],\n",
              " 'J': [0.45, 0.5, 0.020000000000000004, 0.06],\n",
              " 'K': [0.45, 0.35, 0.020000000000000004, 0.06],\n",
              " 'L': [0.5, 0.35, 0.020000000000000004, 0.06],\n",
              " 'M': [0.5499999999999999, 0.35, 0.020000000000000004, 0.06],\n",
              " 'N': [0.55, 0.5, 0.020000000000000004, 0.06],\n",
              " 'O': [0.5499999999999999, 0.65, 0.020000000000000004, 0.06],\n",
              " 'P': [0.5, 0.65, 0.020000000000000004, 0.06],\n",
              " 'Q': [0.45, 0.65, 0.020000000000000004, 0.06],\n",
              " 'R': [0.425, 0.5, 0.020000000000000004, 0.06],\n",
              " 'S': [0.425, 0.275, 0.020000000000000004, 0.06],\n",
              " 'T': [0.5, 0.275, 0.020000000000000004, 0.06],\n",
              " 'U': [0.575, 0.275, 0.020000000000000004, 0.06],\n",
              " 'V': [0.575, 0.5, 0.020000000000000004, 0.06],\n",
              " 'W': [0.575, 0.725, 0.020000000000000004, 0.06],\n",
              " 'X': [0.5, 0.725, 0.020000000000000004, 0.06],\n",
              " 'Y': [0.425, 0.725, 0.020000000000000004, 0.06],\n",
              " 'Z': [0.5, 0.5, 0.10000000000000009, 0.30000000000000004]}"
            ]
          },
          "metadata": {},
          "execution_count": 196
        }
      ]
    },
    {
      "cell_type": "markdown",
      "source": [
        "Ou utilizar a nossa própria:\n",
        "  "
      ],
      "metadata": {
        "id": "5ssaaxMFJ_uF"
      }
    },
    {
      "cell_type": "code",
      "source": [
        "def generate_synthetic_bounding_boxes(num_boxes, img_size=100):\n",
        "    \"\"\"\n",
        "    Generate synthetic bounding boxes for training.\n",
        "\n",
        "    Parameters:\n",
        "    num_boxes (int): Number of bounding boxes to generate.\n",
        "    img_size (int): Size of the image.\n",
        "\n",
        "    Returns:\n",
        "    list: List of bounding boxes in the format (x_center, y_center, width, height).\n",
        "    \"\"\"\n",
        "    boxes = []\n",
        "    for _ in range(num_boxes):\n",
        "        x_center = np.random.randint(10, img_size - 10)\n",
        "        y_center = np.random.randint(10, img_size - 10)\n",
        "        width = np.random.randint(10, img_size - x_center)\n",
        "        height = np.random.randint(10, img_size - y_center)\n",
        "        boxes.append((x_center, y_center, width, height))\n",
        "    return boxes"
      ],
      "metadata": {
        "id": "p9fT99uCKEGg"
      },
      "execution_count": null,
      "outputs": []
    },
    {
      "cell_type": "code",
      "source": [
        "my_bouding_boxes = generate_synthetic_bounding_boxes(100);"
      ],
      "metadata": {
        "id": "HoHIxKbRKFGf"
      },
      "execution_count": null,
      "outputs": []
    },
    {
      "cell_type": "markdown",
      "source": [
        "# Inicio do trabalho\n"
      ],
      "metadata": {
        "id": "Vm_XBk9rErSn"
      }
    },
    {
      "cell_type": "markdown",
      "source": [
        "Ao trabalhar com tensores, vamos precisar de algumas funções para nos auxiliar, como conversores"
      ],
      "metadata": {
        "id": "sgpKUT21KOKZ"
      }
    },
    {
      "cell_type": "code",
      "source": [
        "def bbox_to_tensor(bbox):\n",
        "    \"\"\"\n",
        "    Convert bounding box coordinates to a tensor.\n",
        "\n",
        "    Parameters:\n",
        "    bbox (tuple): Bounding box coordinates (x_center, y_center, width, height).\n",
        "\n",
        "    Returns:\n",
        "    torch.Tensor: Tensor representation of the bounding box.\n",
        "    \"\"\"\n",
        "    x_center, y_center, width, height = bbox\n",
        "    return torch.tensor([x_center, y_center, width, height], dtype=torch.float32)\n",
        "\n",
        "def tensor_to_bbox(tensor):\n",
        "    \"\"\"\n",
        "    Convert tensor to bounding box coordinates.\n",
        "\n",
        "    Parameters:\n",
        "    tensor (torch.Tensor): Tensor representation of the bounding box.\n",
        "\n",
        "    Returns:\n",
        "    tuple: Bounding box coordinates (x_center, y_center, width, height).\n",
        "    \"\"\"\n",
        "    return tuple(tensor.tolist())\n"
      ],
      "metadata": {
        "id": "v1kH5ccmKN4F"
      },
      "execution_count": null,
      "outputs": []
    },
    {
      "cell_type": "markdown",
      "source": [
        "Temos a seguinte lógica para determinar:\n",
        "\n",
        "\n",
        "```\n",
        " inSideLeftAbove(B,A) ← p(A,B),left(B,A),above(B,A)\n",
        " inAbove(C,A) ← p(A,C) above(C,A)\n",
        " inSideRightAbove(D,A) ← p(A,D), left(A,D), above(D,A)\n",
        " inSideRight(E,A) ← p(A,E), left(A,D)\n",
        " inSideRightBelow(F,A) ← p(A,F),left(A,D), above(A,F)\n",
        " inBelow(G,A) ← p(A,G),above(A,G)\n",
        " inSideLeftBelow(H,A) ← p(A,H),left(H,A),above(A,H)\n",
        " inSideLeft(I,A) ← p(A,I), left(I,A).\n",
        " edgeSideLeftAbove(J,A) ← po(A,J),left(J,A),above(J,A)\n",
        " edgeAbove(K,A) ← po(A,K),above(K,A)\n",
        " edgeSideRightAbove(L,A) ← po(A,L),left(A,L),above(L,A)\n",
        " edgeSideRight(M,A) ← po(A,M),left(A,M)\n",
        " edgeSideRightBelow(N,A) ← po(A,N),left(A,N),above(A,N)\n",
        " edgeBelow(O,A) ← po(A,O),above(A,O)\n",
        " edgeSideLeftBelow(P,A) ← po(A,P),left(P,A),above(A,P)\n",
        " edgeSideLeft(Q,A) ← po(A,Q),left(Q,A)\n",
        " outSideLeftAbove(R,A) ← d(A,R),left(A,R),above(R,A)\n",
        " outAbove(S,A) ← d(A,S),above(S,A)\n",
        " outSideRightAbove(T,A) ← d(A,T),left(A,T),above(T,A)\n",
        " outSideRight(U,A) ← d(A,U),left(A,U)\n",
        " outSideRightBelow(V,A) ← d(A,W),left(A,V),above(A,V)\n",
        " outBelow(W,A) ← d(A,W),above(A,W)\n",
        " outSideLeftBelow(X,A) ← d(A,X),left(X,A),above(A,X)\n",
        " outSideLeft(Y,A) ← d(A,Y),left(Y,A)\n",
        " in(A, Z) ← p(Z, A)\n",
        "```\n",
        "\n"
      ],
      "metadata": {
        "id": "grxByAnIKc28"
      }
    },
    {
      "cell_type": "markdown",
      "source": [
        "Essa lógica, pode ser escrita em um predicado"
      ],
      "metadata": {
        "id": "N_uFXs6zLxOm"
      }
    },
    {
      "cell_type": "markdown",
      "source": [
        "O artigo sugere a seguinte abordagem para LTN:\n",
        "\n",
        "\n",
        "*   Domain -labels denoting the relations\n",
        "*   Constant are the bounding boxes\n",
        "*   Predicates spatial relations of bounding boxes pairs\n",
        "*   Axioms represent the mutual exclusion of labels on spatial relations\n",
        "*   Grounding G (itens) = N △ vectors are used to represent class labels\n",
        "*   Learning As before, the fuzzy logic operators and connectives are approximated using the\n",
        "stable product configuration\n",
        "*   Querying LTN constraint learning\n",
        "\n",
        "\n",
        "\n",
        "\n"
      ],
      "metadata": {
        "id": "j8qlrlUkMXCj"
      }
    },
    {
      "cell_type": "markdown",
      "source": [
        "### Definindo as constantes:"
      ],
      "metadata": {
        "id": "r0sLccgLNHuP"
      }
    },
    {
      "cell_type": "code",
      "source": [
        "A, B, C, D, E, F, G, H, I, J, K, L, M, N, O, P, Q, R, S, T, U, V, W, X, Y, Z = [\n",
        "    (tf.constant((clockwise_bounding_boxes.get(letter))))\n",
        "    for letter in \"ABCDEFGHIJKLMNOPQRSTUVWXYZ\"\n",
        "]"
      ],
      "metadata": {
        "id": "htJlzi0dKWLJ"
      },
      "execution_count": null,
      "outputs": []
    },
    {
      "cell_type": "code",
      "source": [
        "teste2 = bbox_to_tensor(clockwise_bounding_boxes.get('A'));"
      ],
      "metadata": {
        "id": "0cc4LUVXQ5TN"
      },
      "execution_count": null,
      "outputs": []
    },
    {
      "cell_type": "code",
      "source": [
        "A"
      ],
      "metadata": {
        "colab": {
          "base_uri": "https://localhost:8080/"
        },
        "id": "yAKmEhAwPdFs",
        "outputId": "496a3254-b372-4f65-fc3c-89cdb8f0d6cd"
      },
      "execution_count": null,
      "outputs": [
        {
          "output_type": "execute_result",
          "data": {
            "text/plain": [
              "<tf.Tensor: shape=(4,), dtype=float32, numpy=array([0.5 , 0.5 , 0.02, 0.06], dtype=float32)>"
            ]
          },
          "metadata": {},
          "execution_count": 145
        }
      ]
    },
    {
      "cell_type": "markdown",
      "source": [
        "###Definindo os predicados"
      ],
      "metadata": {
        "id": "WFzZqTgZY7uY"
      }
    },
    {
      "cell_type": "code",
      "source": [
        "def p (A,B):\n",
        "\n",
        "  return ltn.Predicate(O(A, B))\n",
        "\n",
        "def po(A, B):\n",
        "    return ltn.Predicate(PO(A, B))"
      ],
      "metadata": {
        "id": "MhOOYh5JQrwL"
      },
      "execution_count": null,
      "outputs": []
    },
    {
      "cell_type": "code",
      "source": [
        "bb3 = tf.constant( clockwise_bounding_boxes.get('A') )\n",
        "bb2 = tf.constant( clockwise_bounding_boxes.get('B') )"
      ],
      "metadata": {
        "id": "5zi6RacJQtDG"
      },
      "execution_count": null,
      "outputs": []
    },
    {
      "cell_type": "code",
      "source": [
        "#Exemplo de teste\n",
        "O(bb3,bb2)\n",
        "\n",
        "#print(result)"
      ],
      "metadata": {
        "id": "0f5bY9Z0QwGg",
        "outputId": "369f96e3-b189-484c-f866-85236f837980",
        "colab": {
          "base_uri": "https://localhost:8080/"
        }
      },
      "execution_count": null,
      "outputs": [
        {
          "output_type": "execute_result",
          "data": {
            "text/plain": [
              "<tf.Tensor: shape=(), dtype=bool, numpy=False>"
            ]
          },
          "metadata": {},
          "execution_count": 39
        }
      ]
    },
    {
      "cell_type": "code",
      "source": [
        "bounding_boxes_tensors = {key: torch.tensor(value, dtype=torch.float32) for key, value in clockwise_bounding_boxes.items()}\n",
        "bounding_boxes_tensors\n"
      ],
      "metadata": {
        "id": "Uw6Dbne5a-iF"
      },
      "execution_count": null,
      "outputs": []
    },
    {
      "cell_type": "code",
      "source": [
        "A, B, C, D, E, F, G, H, I, J, K, L, M, N, O, P, Q, R, S, T, U, V, W, X, Y, Z = [\n",
        "    ltn.Variable(name, tensor) for name,\n",
        "    tensor in bounding_boxes_tensors.items()]\n"
      ],
      "metadata": {
        "id": "N13lJqxaCgzL"
      },
      "execution_count": null,
      "outputs": []
    },
    {
      "cell_type": "code",
      "source": [],
      "metadata": {
        "id": "DzyQkaf6Y9iI"
      },
      "execution_count": null,
      "outputs": []
    },
    {
      "cell_type": "code",
      "source": [],
      "metadata": {
        "id": "W1_pXUmbIupb"
      },
      "execution_count": null,
      "outputs": []
    }
  ]
}